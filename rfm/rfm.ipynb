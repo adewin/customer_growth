{
 "cells": [
  {
   "cell_type": "code",
   "execution_count": 156,
   "metadata": {
    "collapsed": true
   },
   "outputs": [],
   "source": [
    "import pandas as pd\n",
    "import warnings\n",
    "warnings.filterwarnings('ignore')\n",
    "from datetime import timedelta"
   ]
  },
  {
   "cell_type": "code",
   "execution_count": 157,
   "metadata": {
    "collapsed": true
   },
   "outputs": [],
   "source": []
  },
  {
   "cell_type": "code",
   "execution_count": 159,
   "metadata": {
    "collapsed": true
   },
   "outputs": [],
   "source": [
    "def prep_for_rfm(dataframe,cust_id='CustomerID', quantity='Quantity',price='UnitPrice', total_price = 'TotalPrice'):\n",
    "    '''\n",
    "    Prepares a customer database for an RFM Analysis\n",
    "    \n",
    "    Takes in a dataset with a format similar to those found in by UCI\n",
    "    library in this link:\n",
    "    http://archive.ics.uci.edu/ml/machine-learning-databases/00352/\n",
    "    '''\n",
    "    \n",
    "    dataframe = dataframe[pd.notnull(dataframe[cust_id])]\n",
    "    for var in [quantity,price]:\n",
    "        dataframe = dataframe[(dataframe[var]>0)]\n",
    "    dataframe[total_price] = dataframe[quantity] * dataframe[price]\n",
    "    return dataframe"
   ]
  },
  {
   "cell_type": "code",
   "execution_count": 160,
   "metadata": {
    "collapsed": true
   },
   "outputs": [],
   "source": [
    "def create_rfm_table(dataframe, cust_id='CustomerID', invoice_date='InvoiceDate', total_price = 'TotalPrice'):\n",
    "    NOW = dataframe[invoice_date].max().to_datetime() + timedelta(days=1)\n",
    "    dataframe[invoice_date] = pd.to_datetime(dataframe[invoice_date])\n",
    "    #Creating an RFM Table\n",
    "    rfmTable = dataframe.groupby(cust_id).agg(\n",
    "    {\n",
    "        'InvoiceDate': lambda x: (NOW - x.max()).days, \n",
    "        'InvoiceNo': lambda x: len(x), total_price: lambda x: x.sum()\n",
    "     }\n",
    "    )\n",
    "    rfmTable['InvoiceDate'] = rfmTable['InvoiceDate'].astype(int)\n",
    "    rfmTable.rename(\n",
    "    columns={\n",
    "        'InvoiceDate': 'recency', \n",
    "        'InvoiceNo': 'frequency', \n",
    "        'TotalPrice': 'monetary_value'}, \n",
    "    inplace=True\n",
    "    )\n",
    "    return rfmTable"
   ]
  },
  {
   "cell_type": "code",
   "execution_count": 161,
   "metadata": {
    "collapsed": true
   },
   "outputs": [],
   "source": [
    "def segment_rfm_table(rfm_table):\n",
    "    \n",
    "    segments = {}\n",
    "    \n",
    "    quantiles = rfm_table.quantile(q=[0.25,0.5,0.75])\n",
    "    quantiles = quantiles.to_dict()\n",
    "    \n",
    "    def RScore(x,p,d):\n",
    "        if x <= d[p][0.25]:\n",
    "            return 1\n",
    "        elif x <= d[p][0.50]:\n",
    "            return 2\n",
    "        elif x <= d[p][0.75]: \n",
    "            return 3\n",
    "        else:\n",
    "            return 4\n",
    "    def FMScore(x,p,d):\n",
    "        if x <= d[p][0.25]:\n",
    "            return 4\n",
    "        elif x <= d[p][0.50]:\n",
    "            return 3\n",
    "        elif x <= d[p][0.75]: \n",
    "            return 2\n",
    "        else:\n",
    "            return 1\n",
    "    \n",
    "    segmented_rfm = rfm_table \n",
    "    segmented_rfm['r_quartile'] = segmented_rfm['recency'].apply(RScore, args=('recency',quantiles,))\n",
    "    segmented_rfm['f_quartile'] = segmented_rfm['frequency'].apply(FMScore, args=('frequency',quantiles,))\n",
    "    segmented_rfm['m_quartile'] = segmented_rfm['monetary_value'].apply(FMScore, args=('monetary_value',quantiles,))\n",
    "    segmented_rfm['RFMScore'] = segmented_rfm.r_quartile.map(str) + segmented_rfm.f_quartile.map(str) + segmented_rfm.m_quartile.map(str)\n",
    "    \n",
    "    def create_segment(segmented_rfm,r_quartile=1,f_quartile=1,m_quartile=1):\n",
    "        step1 = segmented_rfm[segmented_rfm['r_quartile']==r_quartile].sort_values('monetary_value', ascending=False)\n",
    "        step2 = step1[step1['f_quartile']==f_quartile].sort_values('monetary_value', ascending=False)\n",
    "        step3 = step2[step2['m_quartile']==m_quartile].sort_values('monetary_value', ascending=False)\n",
    "        step3\n",
    "        return step3\n",
    "    \n",
    "    segments['best'] = create_segment(segmented_rfm=segmented_rfm,\n",
    "                                      r_quartile=1,\n",
    "                                      f_quartile=1,\n",
    "                                      m_quartile=1\n",
    "    )\n",
    "    segments['almost_lost'] = create_segment(segmented_rfm=segmented_rfm,\n",
    "                                      r_quartile=3,\n",
    "                                      f_quartile=1,\n",
    "                                      m_quartile=1\n",
    "    )\n",
    "    segments['lost'] = create_segment(segmented_rfm=segmented_rfm,\n",
    "                                      r_quartile=4,\n",
    "                                      f_quartile=1,\n",
    "                                      m_quartile=1\n",
    "    )\n",
    "    segments['lost_cheap'] = create_segment(segmented_rfm=segmented_rfm,\n",
    "                                      r_quartile=4,\n",
    "                                      f_quartile=4,\n",
    "                                      m_quartile=4\n",
    "    )\n",
    "    segments['loyal'] = segmented_rfm[segmented_rfm['f_quartile']==1].sort_values('monetary_value', ascending=False)\n",
    "    segments['big_spender'] = segmented_rfm[segmented_rfm['m_quartile']==1].sort_values('monetary_value', ascending=False)\n",
    "    \n",
    "\n",
    "    return segments"
   ]
  },
  {
   "cell_type": "code",
   "execution_count": 162,
   "metadata": {
    "collapsed": true
   },
   "outputs": [],
   "source": [
    "def main(raw_data):\n",
    "    df_clean = prep_for_rfm(dataframe=raw_data)\n",
    "    rfm_table = create_rfm_table(dataframe=df_clean)\n",
    "    segmented_rfm = segment_rfm_table(rfm_table=rfm_table)\n",
    "    return segmented_rfm"
   ]
  },
  {
   "cell_type": "code",
   "execution_count": 166,
   "metadata": {},
   "outputs": [
    {
     "name": "stdout",
     "output_type": "stream",
     "text": [
      "\n",
      "    **************************************\n",
      "    RFM MARKETING STRATEGY\n",
      "    **************************************\n",
      "    \n",
      "    The following strategies are recommended for RFM:\n",
      "    \n",
      "    BEST CUSTOMERS: no price incentives, new products, and loyalty programs\n",
      "    LOYAL CUSTOMERS: Use frequency and monetary metrics to segment further\n",
      "    BIG SPENDERS: Market the most expensive products\n",
      "    ALMOST LOST & LOST: Aggresive price incentives\n",
      "    LOST CHEAP CUSTOMERS: Don't spend too many resources trying to acquire\n",
      "    \n",
      "    \n",
      "    \n",
      "    \n"
     ]
    }
   ],
   "source": [
    "if __name__==\"__main__\":\n",
    "    df = pd.read_excel('Online Retail.xlsx')\n",
    "    segmented_rfm = main(raw_data=df1)\n",
    "    \n",
    "    print(\"\"\"\n",
    "    **************************************\n",
    "    RFM MARKETING STRATEGY\n",
    "    **************************************\n",
    "    \n",
    "    The following strategies are recommended for RFM:\n",
    "    \n",
    "    BEST CUSTOMERS: no price incentives, new products, and loyalty programs\n",
    "    LOYAL CUSTOMERS: Use frequency and monetary metrics to segment further\n",
    "    BIG SPENDERS: Market the most expensive products\n",
    "    ALMOST LOST & LOST: Aggresive price incentives\n",
    "    LOST CHEAP CUSTOMERS: Don't spend too many resources trying to acquire\n",
    "    \n",
    "    \n",
    "    \n",
    "    \"\"\")\n"
   ]
  },
  {
   "cell_type": "code",
   "execution_count": 167,
   "metadata": {},
   "outputs": [
    {
     "name": "stdout",
     "output_type": "stream",
     "text": [
      "[NbConvertApp] Converting notebook rfm.ipynb to script\n",
      "[NbConvertApp] Writing 5106 bytes to rfm.py\n"
     ]
    }
   ],
   "source": [
    "#!jupyter nbconvert --to script rfm.ipynb"
   ]
  },
  {
   "cell_type": "code",
   "execution_count": null,
   "metadata": {
    "collapsed": true
   },
   "outputs": [],
   "source": []
  }
 ],
 "metadata": {
  "kernelspec": {
   "display_name": "Python 3",
   "language": "python",
   "name": "python3"
  },
  "language_info": {
   "codemirror_mode": {
    "name": "ipython",
    "version": 3
   },
   "file_extension": ".py",
   "mimetype": "text/x-python",
   "name": "python",
   "nbconvert_exporter": "python",
   "pygments_lexer": "ipython3",
   "version": "3.6.3"
  }
 },
 "nbformat": 4,
 "nbformat_minor": 2
}
